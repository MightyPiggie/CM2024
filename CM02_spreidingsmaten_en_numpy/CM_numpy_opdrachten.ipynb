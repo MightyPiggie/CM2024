{
 "cells": [
  {
   "cell_type": "markdown",
   "metadata": {},
   "source": [
    "# NumPy Opdrachten\n",
    "\n",
    "In dit notebook vind je de volgende opdrachten:\n",
    "\n",
    "\n",
    "- <a href=\"#np_opdracht1\"> Opdracht 1</a> Maak deze opdracht ter voorbereiding op het college over NumPy.\n",
    "- <a href=\"#np_opdracht2\"> Opdracht 2</a> Hiermee gaan we in het college aan de slag.\n",
    "- <a href=\"#np_opdracht3\"> Opdracht 3</a> Hiermee gaan we in het college aan de slag.\n",
    "- <a href=\"#np_opdracht4\"> Opdracht 4</a> Deze opdracht is facultatief, voor als je meer uitdaging wilt."
   ]
  },
  {
   "cell_type": "markdown",
   "metadata": {
    "tags": []
   },
   "source": [
    "<a id=\"np_opdracht1\"></a>\n",
    "## Opdracht 1 \n",
    "**Maak deze opdracht ter voorbereiding op het college**"
   ]
  },
  {
   "cell_type": "code",
   "execution_count": 203,
   "metadata": {},
   "outputs": [],
   "source": [
    "import numpy as np\n",
    "import numpy"
   ]
  },
  {
   "cell_type": "markdown",
   "metadata": {},
   "source": [
    "- Maak een 1D array x aan met de cijfers 0 t/m 5"
   ]
  },
  {
   "cell_type": "code",
   "execution_count": 204,
   "metadata": {
    "tags": [
     "student"
    ]
   },
   "outputs": [],
   "source": [
    "x = np.arange(0,6)"
   ]
  },
  {
   "cell_type": "markdown",
   "metadata": {},
   "source": [
    "- Laat de vorm (grootte van de dimensies) van de array zien"
   ]
  },
  {
   "cell_type": "code",
   "execution_count": 205,
   "metadata": {
    "tags": [
     "student"
    ]
   },
   "outputs": [
    {
     "data": {
      "text/plain": [
       "(6,)"
      ]
     },
     "execution_count": 205,
     "metadata": {},
     "output_type": "execute_result"
    }
   ],
   "source": [
    "x.shape"
   ]
  },
  {
   "cell_type": "markdown",
   "metadata": {},
   "source": [
    "- Hervorm de array x tot een 2D array (2, 3) "
   ]
  },
  {
   "cell_type": "code",
   "execution_count": 206,
   "metadata": {
    "tags": [
     "student"
    ]
   },
   "outputs": [],
   "source": [
    "x = x.reshape(2,3)"
   ]
  },
  {
   "cell_type": "markdown",
   "metadata": {},
   "source": [
    "- Wat is nu de vorm?\n"
   ]
  },
  {
   "cell_type": "code",
   "execution_count": 207,
   "metadata": {
    "tags": [
     "student"
    ]
   },
   "outputs": [
    {
     "data": {
      "text/plain": [
       "(2, 3)"
      ]
     },
     "execution_count": 207,
     "metadata": {},
     "output_type": "execute_result"
    }
   ],
   "source": [
    "x.shape"
   ]
  },
  {
   "cell_type": "markdown",
   "metadata": {},
   "source": [
    "- Laat het datatype zien\n"
   ]
  },
  {
   "cell_type": "code",
   "execution_count": 208,
   "metadata": {
    "tags": [
     "student"
    ]
   },
   "outputs": [
    {
     "data": {
      "text/plain": [
       "numpy.ndarray"
      ]
     },
     "execution_count": 208,
     "metadata": {},
     "output_type": "execute_result"
    }
   ],
   "source": [
    "type(x)"
   ]
  },
  {
   "cell_type": "markdown",
   "metadata": {},
   "source": [
    "- Sla een kopie van de array op in y\n"
   ]
  },
  {
   "cell_type": "code",
   "execution_count": 209,
   "metadata": {
    "tags": [
     "student"
    ]
   },
   "outputs": [],
   "source": [
    "y = np.copy(x)"
   ]
  },
  {
   "cell_type": "markdown",
   "metadata": {},
   "source": [
    "- Maak een transpose van x\n",
    "\n"
   ]
  },
  {
   "cell_type": "code",
   "execution_count": 210,
   "metadata": {
    "tags": [
     "student"
    ]
   },
   "outputs": [],
   "source": [
    "x = np.transpose(x)"
   ]
  },
  {
   "cell_type": "markdown",
   "metadata": {},
   "source": [
    "- Maak een transpose van y\n"
   ]
  },
  {
   "cell_type": "code",
   "execution_count": 211,
   "metadata": {
    "tags": [
     "student"
    ]
   },
   "outputs": [],
   "source": [
    "y = np.transpose(y)"
   ]
  },
  {
   "cell_type": "markdown",
   "metadata": {},
   "source": [
    "- Vermenigvuldig alle waarden van y met 2\n"
   ]
  },
  {
   "cell_type": "code",
   "execution_count": 212,
   "metadata": {
    "tags": [
     "student"
    ]
   },
   "outputs": [],
   "source": [
    "y = y*2"
   ]
  },
  {
   "cell_type": "markdown",
   "metadata": {},
   "source": [
    "- Concateneer de twee arrays in een nieuwe array `z`\n"
   ]
  },
  {
   "cell_type": "code",
   "execution_count": 213,
   "metadata": {
    "tags": [
     "student"
    ]
   },
   "outputs": [],
   "source": [
    "z = np.concatenate((x,y))"
   ]
  },
  {
   "cell_type": "markdown",
   "metadata": {},
   "source": [
    "- Geef het gemiddelde, modus, mediaan en de standaarddeviatie van z\n"
   ]
  },
  {
   "cell_type": "code",
   "execution_count": 214,
   "metadata": {},
   "outputs": [
    {
     "name": "stdout",
     "output_type": "stream",
     "text": [
      "[[ 0  3]\n",
      " [ 1  4]\n",
      " [ 2  5]\n",
      " [ 0  6]\n",
      " [ 2  8]\n",
      " [ 4 10]]\n",
      "average of z:  3.75\n",
      "modus of z:  ModeResult(mode=array([0, 3]), count=array([2, 1]))\n",
      "median of z:  3.5\n",
      "stdev of z:  2.9755951785595207\n"
     ]
    }
   ],
   "source": [
    "from scipy.stats import mode\n",
    "print(z)\n",
    "print(\"average of z: \", np.average(z))\n",
    "print(\"modus of z: \", mode(z))\n",
    "print(\"median of z: \", np.median(z))\n",
    "print(\"stdev of z: \", np.std(z))"
   ]
  },
  {
   "cell_type": "markdown",
   "metadata": {
    "tags": []
   },
   "source": [
    "<a id=\"np_opdracht2\"></a>\n",
    "## Opdracht 2\n",
    "**Python list vs. NumPy**"
   ]
  },
  {
   "cell_type": "markdown",
   "metadata": {
    "tags": []
   },
   "source": [
    "- Maak een list `lst` met 1.000.001 willekeurige getallen tussen 0 en 10 (gebruik `random.randint(0, 10)`)\n",
    "- Bepaal de mediaan\n",
    "- Maak een list met daarin het kwadraat van elk element in `lst`\n",
    "- Maak een list met daarin alleen alle even getallen uit `lst`\n",
    "- Maak een tweede list `lst2` met 1.000.001 willekeurige getallen\n",
    "- Maak een list met daarin de som van de elementen uit `lst` en `lst2`, dus:\n",
    "  - `lst_samen[0] = lst[0] + lst2[0]`,\n",
    "  - `lst_samen[1] = lst[1] + lst2[1]`,\n",
    "  - etc.\n",
    "\n",
    "- Doe bovenstaande ook met Numpy\n",
    "\n",
    "- Gebruik `%timeit` voor je code om de snelheid te vergelijken"
   ]
  },
  {
   "cell_type": "code",
   "execution_count": 1,
   "metadata": {
    "tags": []
   },
   "outputs": [
    {
     "name": "stdout",
     "output_type": "stream",
     "text": [
      "5\n",
      "5\n",
      "5\n",
      "5\n",
      "5\n",
      "5\n",
      "5\n",
      "5\n",
      "236 ms ± 2.78 ms per loop (mean ± std. dev. of 7 runs, 1 loop each)\n",
      "5\n",
      "5\n",
      "5\n",
      "5\n",
      "5\n",
      "5\n",
      "5\n",
      "5\n",
      "5\n",
      "5\n",
      "2.3475137559998984\n",
      "5.0\n",
      "5.0\n",
      "5.0\n",
      "5.0\n",
      "5.0\n",
      "5.0\n",
      "5.0\n",
      "5.0\n",
      "5.0\n",
      "5.0\n",
      "0.34870903299997735\n"
     ]
    }
   ],
   "source": [
    "import math\n",
    "import random\n",
    "import numpy as np\n",
    "import statistics\n",
    "import timeit\n",
    "\n",
    "random.seed(0)\n",
    "\n",
    "random_array = np.random.randint(0, 11, 1000_001)\n",
    "random_array = random_array.tolist()\n",
    "random_array2 = np.random.randint(0, 11, 1000_001)\n",
    "random_array2 = random_array2.tolist()\n",
    "\n",
    "random_array_square = []\n",
    "random_array_even = []\n",
    "random_array_together = []\n",
    "def python_arrays():\n",
    "    print(statistics.median(random_array))\n",
    "    for i in range(len(random_array)): \n",
    "        random_array_square.append(random_array[i] ** 2)\n",
    "        random_array_even.append(random_array[i]) if random_array[i] % 2 == 0 else None\n",
    "        random_array_together.append(random_array[i] + random_array2[i])\n",
    "\n",
    "random_array_numpy = np.random.randint(0, 11, 1000_001)\n",
    "random_array_numpy2 = np.random.randint(0, 11, 1000_001)\n",
    "def numpy_arrays():\n",
    "    print(np.median(random_array_numpy))\n",
    "    random_array_numpy_square = np.square(random_array_numpy)\n",
    "    random_array_numpy_even = np.extract(random_array_numpy % 2 == 0, random_array_numpy)\n",
    "    random_array_numpy_together = np.add(random_array_numpy, random_array_numpy2)\n",
    "\n",
    "%timeit python_arrays()\n",
    "print(timeit.timeit(python_arrays, number=10))\n",
    "print(timeit.timeit(numpy_arrays, number=10))\n",
    "    \n",
    "\n",
    "\n",
    "\n",
    "\n",
    "\n",
    "\n"
   ]
  },
  {
   "cell_type": "code",
   "execution_count": null,
   "metadata": {},
   "outputs": [],
   "source": []
  },
  {
   "cell_type": "markdown",
   "metadata": {},
   "source": [
    "<a id=\"np_opdracht3\"></a>\n",
    "## Opdracht 3\n",
    "\n",
    "De blokcoördinator D.O. Cent van blok A  wil graag de cijfers analyseren en verwerken. Het blok bestaat uit 3 vakken, die door 10 studenten gevolgd zijn. Analyse omvat o.a. het bepalen van gemiddelde cijfer, het aantal voldoendes en cursusrendement. De verwerking bestaat uit het corrigeren van de cijfers.\n",
    "\n",
    "In `blokAcijfers.txt` staan de cijfers per vak (naast elkaar staan de vakken, onder elkaar de studenten):\n",
    "\n",
    "vak1 | vak2 | vak3\n",
    "----|-------|------\n",
    "6.5 | 7.3   | 6.4\n",
    "8.0 | 8.0\t| 8.5\n",
    "3.2\t| 4.0\t| 5.0\n",
    "7.9\t| 7.1\t| 3.5\n",
    "7.3\t| 7.8\t| 8.0\n",
    "8.6\t| 8.0\t| 9.0\n",
    "4.0\t| 6.0\t| 5.5\n",
    "7.3\t| 7.8\t| 7.8\n",
    "4.5\t| 5.6\t| 7.7\n",
    "5.0\t| 7.0\t| 7.2\n"
   ]
  },
  {
   "cell_type": "code",
   "execution_count": 216,
   "metadata": {},
   "outputs": [],
   "source": [
    "import numpy as np"
   ]
  },
  {
   "cell_type": "markdown",
   "metadata": {},
   "source": [
    "Start met de data verzamelen:\n",
    "- Lees tekstbestand: blokAcijfers.txt in met `np.loadtxt`, sla de data op in een numpy array met naam `vCijfers`.\n",
    "- Laat zien dat de gegevens goed ingelezen zijn.\n",
    "- Toon de array attributen."
   ]
  },
  {
   "cell_type": "code",
   "execution_count": 217,
   "metadata": {
    "scrolled": true,
    "tags": [
     "student"
    ]
   },
   "outputs": [
    {
     "name": "stdout",
     "output_type": "stream",
     "text": [
      "[[6.5 7.3 6.4]\n",
      " [8.  8.  8.5]\n",
      " [3.2 4.  5. ]\n",
      " [7.9 7.1 3.5]\n",
      " [7.3 7.8 8. ]\n",
      " [8.6 8.  9. ]\n",
      " [4.  6.  5.5]\n",
      " [7.3 7.8 7.8]\n",
      " [4.5 5.6 7.7]\n",
      " [5.  7.  7.2]]\n",
      "(10, 3)\n"
     ]
    }
   ],
   "source": [
    "import numpy as np\n",
    "vCijfers = np.loadtxt(\"blokAcijfers.txt\")\n",
    "print(vCijfers)\n",
    "print(vCijfers.shape)"
   ]
  },
  {
   "cell_type": "markdown",
   "metadata": {},
   "source": [
    "De docent ziet dat er 2 cijfers fout zijn en wil deze corrigeren\n",
    "-\tWijzig de volgende cijfers:\n",
    "    *\tvak-2, student-3  cijfer 4.0 moet 4.3 worden.\n",
    "    *\tvak-1, student-10, cijfer 5.0 moet 4.8 worden."
   ]
  },
  {
   "cell_type": "code",
   "execution_count": 218,
   "metadata": {
    "tags": [
     "student"
    ]
   },
   "outputs": [],
   "source": [
    "vCijfers[2,1] = 4.3\n",
    "vCijfers[9,0] = 4.8\n"
   ]
  },
  {
   "cell_type": "markdown",
   "metadata": {},
   "source": [
    "De docent wil wat basisgegevens weten.\n",
    "-\tBepaal minimum, maximum en gemiddelde van alle cijfers.\n",
    "-\tBepaal minimum, maximum en gemiddelde van elk vak (3 getallen).\n",
    "-\tBepaal minimum, maximum en gemiddelde van elke student (10 getallen)."
   ]
  },
  {
   "cell_type": "code",
   "execution_count": 219,
   "metadata": {
    "tags": [
     "student"
    ]
   },
   "outputs": [
    {
     "name": "stdout",
     "output_type": "stream",
     "text": [
      "minimum of vCijfers:  3.2\n",
      "maximum of vCijfers:  9.0\n",
      "average of vCijfers:  6.653333333333333\n"
     ]
    }
   ],
   "source": [
    "print(\"minimum of vCijfers: \", np.min(vCijfers))\n",
    "print(\"maximum of vCijfers: \", np.max(vCijfers))\n",
    "print(\"average of vCijfers: \", np.average(vCijfers))"
   ]
  },
  {
   "cell_type": "code",
   "execution_count": 220,
   "metadata": {},
   "outputs": [
    {
     "name": "stdout",
     "output_type": "stream",
     "text": [
      "Minimum of class 1 : 3.2\n",
      "Maximum of class 1 : 8.6\n",
      "average of class 1 : 6.209999999999999\n",
      "Minimum of class 2 : 4.3\n",
      "Maximum of class 2 : 8.0\n",
      "average of class 2 : 6.890000000000001\n",
      "Minimum of class 3 : 3.5\n",
      "Maximum of class 3 : 9.0\n",
      "average of class 3 : 6.860000000000001\n"
     ]
    }
   ],
   "source": [
    "vCijfers_class = np.transpose(vCijfers)\n",
    "# print(vCijfers_class.sh)\n",
    "for i in range(vCijfers_class.shape[0]):\n",
    "    print(\"Minimum of class\", i+1, \":\", np.min(vCijfers_class[i]))\n",
    "    print(\"Maximum of class\", i+1, \":\", np.max(vCijfers_class[i]))\n",
    "    print(\"average of class\", i+1, \":\", np.average(vCijfers_class[i]))"
   ]
  },
  {
   "cell_type": "code",
   "execution_count": 221,
   "metadata": {},
   "outputs": [
    {
     "name": "stdout",
     "output_type": "stream",
     "text": [
      "Minimum of student 1 : 6.4\n",
      "Maximum of student 1 : 7.3\n",
      "average of student 1 : 6.733333333333334\n",
      "Minimum of student 2 : 8.0\n",
      "Maximum of student 2 : 8.5\n",
      "average of student 2 : 8.166666666666666\n",
      "Minimum of student 3 : 3.2\n",
      "Maximum of student 3 : 5.0\n",
      "average of student 3 : 4.166666666666667\n",
      "Minimum of student 4 : 3.5\n",
      "Maximum of student 4 : 7.9\n",
      "average of student 4 : 6.166666666666667\n",
      "Minimum of student 5 : 7.3\n",
      "Maximum of student 5 : 8.0\n",
      "average of student 5 : 7.7\n",
      "Minimum of student 6 : 8.0\n",
      "Maximum of student 6 : 9.0\n",
      "average of student 6 : 8.533333333333333\n",
      "Minimum of student 7 : 4.0\n",
      "Maximum of student 7 : 6.0\n",
      "average of student 7 : 5.166666666666667\n",
      "Minimum of student 8 : 7.3\n",
      "Maximum of student 8 : 7.8\n",
      "average of student 8 : 7.633333333333333\n",
      "Minimum of student 9 : 4.5\n",
      "Maximum of student 9 : 7.7\n",
      "average of student 9 : 5.933333333333334\n",
      "Minimum of student 10 : 4.8\n",
      "Maximum of student 10 : 7.2\n",
      "average of student 10 : 6.333333333333333\n"
     ]
    }
   ],
   "source": [
    "for i in range(vCijfers.shape[0]):\n",
    "    print(\"Minimum of student\", i+1, \":\", np.min(vCijfers[i]))\n",
    "    print(\"Maximum of student\", i+1, \":\", np.max(vCijfers[i]))\n",
    "    print(\"average of student\", i+1, \":\", np.average(vCijfers[i]))"
   ]
  },
  {
   "cell_type": "markdown",
   "metadata": {},
   "source": [
    "De docent wil graag zien wat de cijfers zijn als ze afgerond worden op hele getallen.\n",
    "-\tKopieer de array naar een nieuwe array.\n",
    "-\tRond de waarden af.\n",
    "-\tLaat de resultaten zien."
   ]
  },
  {
   "cell_type": "code",
   "execution_count": 222,
   "metadata": {
    "tags": [
     "student"
    ]
   },
   "outputs": [
    {
     "name": "stdout",
     "output_type": "stream",
     "text": [
      "[[6. 7. 6.]\n",
      " [8. 8. 8.]\n",
      " [3. 4. 5.]\n",
      " [8. 7. 4.]\n",
      " [7. 8. 8.]\n",
      " [9. 8. 9.]\n",
      " [4. 6. 6.]\n",
      " [7. 8. 8.]\n",
      " [4. 6. 8.]\n",
      " [5. 7. 7.]]\n"
     ]
    }
   ],
   "source": [
    "vCijfers_copy = np.copy(vCijfers)\n",
    "vCijfers_copy = np.rint(vCijfers_copy)\n",
    "print(vCijfers_copy)"
   ]
  },
  {
   "cell_type": "markdown",
   "metadata": {},
   "source": [
    "Er is een fout gemaakt bij de cijfers van het 1e vak. Iedere student krijgt 0.5 punt extra erbij.\n",
    "-\tVul een ‘ophoogarray’ bestaande uit 3 kolommen en elk 10 rijen en vul deze eerst met 0.0 en daarna de eerste rij met de waarden 0.5.\n",
    "-\tTel de ophoogarray op bij de cijfer array."
   ]
  },
  {
   "cell_type": "code",
   "execution_count": 223,
   "metadata": {},
   "outputs": [],
   "source": [
    "ophoogarray = np.zeros((10,3))\n",
    "ophoogarray[:, 0] = 0.5\n",
    "vCijfers = vCijfers + ophoogarray"
   ]
  },
  {
   "cell_type": "markdown",
   "metadata": {},
   "source": [
    "De docent wil een lijstje waarin hij in één opslag ziet waar een voldoende (`True`) en waar een onvoldoende (`False`) staat.  \n",
    "-\tMaakt dit lijstje."
   ]
  },
  {
   "cell_type": "code",
   "execution_count": 225,
   "metadata": {},
   "outputs": [
    {
     "name": "stdout",
     "output_type": "stream",
     "text": [
      "[[7.  7.3 6.4]\n",
      " [8.5 8.  8.5]\n",
      " [3.7 4.3 5. ]\n",
      " [8.4 7.1 3.5]\n",
      " [7.8 7.8 8. ]\n",
      " [9.1 8.  9. ]\n",
      " [4.5 6.  5.5]\n",
      " [7.8 7.8 7.8]\n",
      " [5.  5.6 7.7]\n",
      " [5.3 7.  7.2]]\n",
      "[[ True  True  True]\n",
      " [ True  True  True]\n",
      " [False False False]\n",
      " [ True  True False]\n",
      " [ True  True  True]\n",
      " [ True  True  True]\n",
      " [False  True  True]\n",
      " [ True  True  True]\n",
      " [False  True  True]\n",
      " [False  True  True]]\n"
     ]
    }
   ],
   "source": [
    "\n",
    "print(vCijfers)\n",
    "vCijfers_bool = np.where(vCijfers >= 5.5, True, False)\n",
    "print(vCijfers_bool)"
   ]
  },
  {
   "cell_type": "markdown",
   "metadata": {},
   "source": [
    "<a id=\"np_opdracht4\"></a>\n",
    "## Opdracht 4\n",
    "**Deze opdracht is facultatief**"
   ]
  },
  {
   "cell_type": "code",
   "execution_count": null,
   "metadata": {},
   "outputs": [],
   "source": [
    "import numpy as np"
   ]
  },
  {
   "cell_type": "markdown",
   "metadata": {},
   "source": [
    "#### 3. Create a null vector of size 10"
   ]
  },
  {
   "cell_type": "code",
   "execution_count": null,
   "metadata": {
    "tags": [
     "student"
    ]
   },
   "outputs": [],
   "source": []
  },
  {
   "cell_type": "markdown",
   "metadata": {},
   "source": [
    "#### 6.  Create a null vector of size 10 but the fifth value which is 1"
   ]
  },
  {
   "cell_type": "code",
   "execution_count": null,
   "metadata": {
    "tags": [
     "student"
    ]
   },
   "outputs": [],
   "source": []
  },
  {
   "cell_type": "markdown",
   "metadata": {},
   "source": [
    "#### 8.  Reverse a vector with values ranging from 10 to 49 (first element becomes last)"
   ]
  },
  {
   "cell_type": "code",
   "execution_count": null,
   "metadata": {
    "tags": [
     "student"
    ]
   },
   "outputs": [],
   "source": []
  },
  {
   "cell_type": "markdown",
   "metadata": {},
   "source": [
    "#### 9.  Create a 3x3 matrix with values ranging from 0 to 8"
   ]
  },
  {
   "cell_type": "code",
   "execution_count": null,
   "metadata": {
    "tags": [
     "student"
    ]
   },
   "outputs": [],
   "source": []
  },
  {
   "cell_type": "markdown",
   "metadata": {},
   "source": [
    "#### 10. Find indices of non-zero elements from \\[1,2,0,0,4,0\\]"
   ]
  },
  {
   "cell_type": "code",
   "execution_count": null,
   "metadata": {
    "tags": [
     "student"
    ]
   },
   "outputs": [],
   "source": []
  },
  {
   "cell_type": "markdown",
   "metadata": {},
   "source": [
    "#### 11. Create a 3x3 identity matrix"
   ]
  },
  {
   "cell_type": "code",
   "execution_count": null,
   "metadata": {
    "tags": [
     "student"
    ]
   },
   "outputs": [],
   "source": []
  },
  {
   "cell_type": "markdown",
   "metadata": {},
   "source": [
    "#### 13. Create a 10x10 array with random values and find the minimum and maximum values"
   ]
  },
  {
   "cell_type": "code",
   "execution_count": null,
   "metadata": {
    "tags": [
     "student"
    ]
   },
   "outputs": [],
   "source": []
  },
  {
   "cell_type": "markdown",
   "metadata": {},
   "source": [
    "#### 15. Create a 2d array with 1 on the border and 0 inside"
   ]
  },
  {
   "cell_type": "code",
   "execution_count": null,
   "metadata": {
    "tags": [
     "student"
    ]
   },
   "outputs": [],
   "source": []
  },
  {
   "cell_type": "markdown",
   "metadata": {},
   "source": [
    "#### 19. Create a 8x8 matrix and fill it with a checkerboard pattern"
   ]
  },
  {
   "cell_type": "code",
   "execution_count": null,
   "metadata": {
    "tags": [
     "student"
    ]
   },
   "outputs": [],
   "source": []
  },
  {
   "cell_type": "markdown",
   "metadata": {},
   "source": [
    "#### 25. Given a 1D array, negate all elements which are between 3 and 8, in place."
   ]
  },
  {
   "cell_type": "code",
   "execution_count": null,
   "metadata": {
    "tags": [
     "student"
    ]
   },
   "outputs": [],
   "source": []
  },
  {
   "cell_type": "markdown",
   "metadata": {},
   "source": [
    "#### 29. How to round away from zero a float array ?"
   ]
  },
  {
   "cell_type": "code",
   "execution_count": null,
   "metadata": {
    "tags": [
     "student"
    ]
   },
   "outputs": [],
   "source": []
  },
  {
   "cell_type": "markdown",
   "metadata": {},
   "source": [
    "#### 30. How to find common values between two arrays?"
   ]
  },
  {
   "cell_type": "code",
   "execution_count": null,
   "metadata": {
    "tags": [
     "student"
    ]
   },
   "outputs": [],
   "source": []
  },
  {
   "cell_type": "markdown",
   "metadata": {},
   "source": [
    "#### 36. Extract the integer part of a random array using 5 different methods"
   ]
  },
  {
   "cell_type": "code",
   "execution_count": null,
   "metadata": {},
   "outputs": [],
   "source": [
    "Z = np.random.uniform(0,10,10)"
   ]
  },
  {
   "cell_type": "code",
   "execution_count": null,
   "metadata": {
    "tags": [
     "student"
    ]
   },
   "outputs": [],
   "source": []
  },
  {
   "cell_type": "markdown",
   "metadata": {},
   "source": [
    "#### 37. Create a 5x5 matrix with row values ranging from 0 to 4"
   ]
  },
  {
   "cell_type": "code",
   "execution_count": null,
   "metadata": {
    "tags": [
     "student"
    ]
   },
   "outputs": [],
   "source": []
  },
  {
   "cell_type": "markdown",
   "metadata": {},
   "source": [
    "#### 39. Create a vector of size 10 with values ranging from 0 to 1, both excluded"
   ]
  },
  {
   "cell_type": "code",
   "execution_count": null,
   "metadata": {
    "tags": [
     "student"
    ]
   },
   "outputs": [],
   "source": []
  },
  {
   "cell_type": "markdown",
   "metadata": {},
   "source": [
    "#### 40. Create a random vector of size 10 and sort it"
   ]
  },
  {
   "cell_type": "code",
   "execution_count": null,
   "metadata": {
    "tags": [
     "student"
    ]
   },
   "outputs": [],
   "source": []
  },
  {
   "cell_type": "markdown",
   "metadata": {},
   "source": [
    "#### 42. Consider two random array A and B, check if they are equal"
   ]
  },
  {
   "cell_type": "code",
   "execution_count": null,
   "metadata": {
    "tags": [
     "student"
    ]
   },
   "outputs": [],
   "source": []
  },
  {
   "cell_type": "markdown",
   "metadata": {},
   "source": [
    "#### 45. Create random vector of size 10 and replace the maximum value by 0"
   ]
  },
  {
   "cell_type": "code",
   "execution_count": null,
   "metadata": {
    "tags": [
     "student"
    ]
   },
   "outputs": [],
   "source": []
  },
  {
   "cell_type": "markdown",
   "metadata": {},
   "source": [
    "#### 50. How to find the closest value (to a given scalar) in a vector?"
   ]
  },
  {
   "cell_type": "code",
   "execution_count": null,
   "metadata": {},
   "outputs": [],
   "source": [
    "v = np.random.uniform(0,100)"
   ]
  },
  {
   "cell_type": "code",
   "execution_count": null,
   "metadata": {
    "tags": [
     "student"
    ]
   },
   "outputs": [],
   "source": []
  },
  {
   "cell_type": "markdown",
   "metadata": {},
   "source": [
    "#### 52. Consider a random vector with shape (10,2) representing coordinates, find point by point distances"
   ]
  },
  {
   "cell_type": "code",
   "execution_count": null,
   "metadata": {},
   "outputs": [],
   "source": [
    "Z = np.random.random((10,2))\n"
   ]
  },
  {
   "cell_type": "code",
   "execution_count": null,
   "metadata": {
    "tags": [
     "student"
    ]
   },
   "outputs": [],
   "source": []
  },
  {
   "cell_type": "markdown",
   "metadata": {},
   "source": [
    "#### 57. How to randomly place p elements in a 2D array?"
   ]
  },
  {
   "cell_type": "code",
   "execution_count": null,
   "metadata": {
    "tags": [
     "student"
    ]
   },
   "outputs": [],
   "source": []
  },
  {
   "cell_type": "markdown",
   "metadata": {},
   "source": [
    "#### 58. Subtract the mean of each row of a matrix"
   ]
  },
  {
   "cell_type": "code",
   "execution_count": null,
   "metadata": {
    "tags": [
     "student"
    ]
   },
   "outputs": [],
   "source": []
  },
  {
   "cell_type": "markdown",
   "metadata": {},
   "source": [
    "#### 59. How to sort an array by the nth column?"
   ]
  },
  {
   "cell_type": "code",
   "execution_count": null,
   "metadata": {
    "tags": [
     "student"
    ]
   },
   "outputs": [],
   "source": []
  },
  {
   "cell_type": "markdown",
   "metadata": {},
   "source": [
    "#### 60. How to tell if a given 2D array has null columns?"
   ]
  },
  {
   "cell_type": "code",
   "execution_count": null,
   "metadata": {
    "tags": [
     "student"
    ]
   },
   "outputs": [],
   "source": []
  },
  {
   "cell_type": "markdown",
   "metadata": {},
   "source": [
    "#### 61. Find the nearest value from a given value in an array"
   ]
  },
  {
   "cell_type": "code",
   "execution_count": null,
   "metadata": {},
   "outputs": [],
   "source": [
    "Z = np.random.uniform(0,1,10)\n",
    "z = 0.5"
   ]
  },
  {
   "cell_type": "code",
   "execution_count": null,
   "metadata": {
    "tags": [
     "student"
    ]
   },
   "outputs": [],
   "source": []
  },
  {
   "cell_type": "markdown",
   "metadata": {},
   "source": [
    "#### 70. Consider the vector \\[1, 2, 3, 4, 5\\], how to build a new vector with 3 consecutive zeros interleaved between each value?"
   ]
  },
  {
   "cell_type": "code",
   "execution_count": null,
   "metadata": {
    "tags": [
     "student"
    ]
   },
   "outputs": [],
   "source": []
  },
  {
   "cell_type": "markdown",
   "metadata": {},
   "source": [
    "#### 72. How to swap two rows of an array?"
   ]
  },
  {
   "cell_type": "code",
   "execution_count": null,
   "metadata": {
    "tags": [
     "student"
    ]
   },
   "outputs": [],
   "source": []
  },
  {
   "cell_type": "markdown",
   "metadata": {},
   "source": [
    "#### 77. How to negate a boolean, or to change the sign of a float inplace?"
   ]
  },
  {
   "cell_type": "code",
   "execution_count": null,
   "metadata": {
    "tags": [
     "student"
    ]
   },
   "outputs": [],
   "source": []
  },
  {
   "cell_type": "markdown",
   "metadata": {},
   "source": [
    "#### 83. How to find the most frequent value in an array?"
   ]
  },
  {
   "cell_type": "code",
   "execution_count": null,
   "metadata": {
    "tags": [
     "student"
    ]
   },
   "outputs": [],
   "source": []
  },
  {
   "cell_type": "markdown",
   "metadata": {},
   "source": [
    "#### 89. How to get the n largest values of an array"
   ]
  },
  {
   "cell_type": "code",
   "execution_count": null,
   "metadata": {
    "tags": [
     "student"
    ]
   },
   "outputs": [],
   "source": []
  }
 ],
 "metadata": {
  "celltoolbar": "Tags",
  "kernelspec": {
   "display_name": "Python 3 (ipykernel)",
   "language": "python",
   "name": "python3"
  },
  "language_info": {
   "codemirror_mode": {
    "name": "ipython",
    "version": 3
   },
   "file_extension": ".py",
   "mimetype": "text/x-python",
   "name": "python",
   "nbconvert_exporter": "python",
   "pygments_lexer": "ipython3",
   "version": "3.12.4"
  }
 },
 "nbformat": 4,
 "nbformat_minor": 4
}
