{
 "cells": [
  {
   "cell_type": "markdown",
   "metadata": {},
   "source": [
    "# CM3 Pandas Opdrachten\n",
    "\n",
    "In dit notebook vind je de volgende opdrachten\n",
    "- [Opdracht 1 - Series](#Opdracht-1-Series)\n",
    "- [Opdracht 2 - Dataframe](#Opdracht-2-Dataframe)\n",
    "- [Opdracht 3 - Cijfers](#Opdracht-3-Cijfers)\n",
    "- [Opdracht 4 - datetime](#Opdracht-4-datetime)\n"
   ]
  },
  {
   "cell_type": "markdown",
   "metadata": {},
   "source": [
    "## Opdracht 1 Series"
   ]
  },
  {
   "cell_type": "code",
   "execution_count": 629,
   "metadata": {},
   "outputs": [],
   "source": [
    "import pandas as pd\n",
    "import numpy as np"
   ]
  },
  {
   "cell_type": "code",
   "execution_count": 630,
   "metadata": {},
   "outputs": [
    {
     "data": {
      "text/plain": [
       "DS     7.0\n",
       "IAC    6.5\n",
       "NET    9.0\n",
       "dtype: float64"
      ]
     },
     "execution_count": 630,
     "metadata": {},
     "output_type": "execute_result"
    }
   ],
   "source": [
    "#values = [7.0, 6.5, 9.0, 8.0]\n",
    "#index = [ 'DS', 'IAC', 'NET', 'IAC']\n",
    "values = [7.0, 6.5, 9.0]\n",
    "index = [ 'DS', 'IAC', 'NET']\n",
    "cijfers = pd.Series(values, index=index)\n",
    "cijfers"
   ]
  },
  {
   "cell_type": "markdown",
   "metadata": {},
   "source": [
    "- Haal het cijfer 6.5 op uit de Series door middel van:\n",
    "  1. de expliciete key methode\n",
    "  2. de impliciete key methode\n",
    "  3. rechtstreeks met de expliciete key\n",
    "  4. rechtstreeks met de impliciete key"
   ]
  },
  {
   "cell_type": "code",
   "execution_count": 631,
   "metadata": {
    "tags": [
     "student"
    ]
   },
   "outputs": [
    {
     "name": "stdout",
     "output_type": "stream",
     "text": [
      "1.  6.5\n",
      "2.  6.5\n",
      "3.  6.5\n",
      "4.  6.5\n"
     ]
    },
    {
     "name": "stderr",
     "output_type": "stream",
     "text": [
      "/tmp/ipykernel_703733/1806157625.py:4: FutureWarning: Series.__getitem__ treating keys as positions is deprecated. In a future version, integer keys will always be treated as labels (consistent with DataFrame behavior). To access a value by position, use `ser.iloc[pos]`\n",
      "  print(\"4. \", cijfers[1])\n"
     ]
    }
   ],
   "source": [
    "print(\"1. \", cijfers.loc['IAC'])\n",
    "print(\"2. \", cijfers.iloc[1])\n",
    "print(\"3. \", cijfers['IAC'])\n",
    "print(\"4. \", cijfers[1])"
   ]
  },
  {
   "cell_type": "markdown",
   "metadata": {},
   "source": [
    "- Retourneer de cijfers van de laatste twee vakken uit de Series."
   ]
  },
  {
   "cell_type": "code",
   "execution_count": 632,
   "metadata": {
    "tags": [
     "student"
    ]
   },
   "outputs": [
    {
     "data": {
      "text/plain": [
       "IAC    6.5\n",
       "NET    9.0\n",
       "dtype: float64"
      ]
     },
     "execution_count": 632,
     "metadata": {},
     "output_type": "execute_result"
    }
   ],
   "source": [
    "cijfers[1:3] # Ik denk dat doet word bedoeld?"
   ]
  },
  {
   "cell_type": "markdown",
   "metadata": {},
   "source": [
    "- Bepaal gemiddelde, mediaan, minimum en maximum van de cijfers."
   ]
  },
  {
   "cell_type": "code",
   "execution_count": 633,
   "metadata": {
    "tags": [
     "student"
    ]
   },
   "outputs": [
    {
     "name": "stdout",
     "output_type": "stream",
     "text": [
      "average:  7.5\n",
      "median:  7.0\n",
      "min:  6.5\n",
      "max:  9.0\n"
     ]
    }
   ],
   "source": [
    "print(\"average: \", cijfers.mean())\n",
    "print(\"median: \", cijfers.median())\n",
    "print(\"min: \", cijfers.min())\n",
    "print(\"max: \", cijfers.max())"
   ]
  },
  {
   "cell_type": "markdown",
   "metadata": {},
   "source": [
    "## Opdracht 2 Dataframe "
   ]
  },
  {
   "cell_type": "code",
   "execution_count": 634,
   "metadata": {},
   "outputs": [
    {
     "data": {
      "text/html": [
       "<div>\n",
       "<style scoped>\n",
       "    .dataframe tbody tr th:only-of-type {\n",
       "        vertical-align: middle;\n",
       "    }\n",
       "\n",
       "    .dataframe tbody tr th {\n",
       "        vertical-align: top;\n",
       "    }\n",
       "\n",
       "    .dataframe thead th {\n",
       "        text-align: right;\n",
       "    }\n",
       "</style>\n",
       "<table border=\"1\" class=\"dataframe\">\n",
       "  <thead>\n",
       "    <tr style=\"text-align: right;\">\n",
       "      <th></th>\n",
       "      <th>Nummer</th>\n",
       "      <th>Naam</th>\n",
       "      <th>Tentamen</th>\n",
       "      <th>Opdracht</th>\n",
       "    </tr>\n",
       "  </thead>\n",
       "  <tbody>\n",
       "    <tr>\n",
       "      <th>0</th>\n",
       "      <td>s1</td>\n",
       "      <td>Joop</td>\n",
       "      <td>99.9</td>\n",
       "      <td>7.5</td>\n",
       "    </tr>\n",
       "    <tr>\n",
       "      <th>1</th>\n",
       "      <td>s2</td>\n",
       "      <td>Piet</td>\n",
       "      <td>8.0</td>\n",
       "      <td>7.0</td>\n",
       "    </tr>\n",
       "    <tr>\n",
       "      <th>2</th>\n",
       "      <td>None</td>\n",
       "      <td>Fout</td>\n",
       "      <td>99.9</td>\n",
       "      <td>99.9</td>\n",
       "    </tr>\n",
       "    <tr>\n",
       "      <th>3</th>\n",
       "      <td>s3</td>\n",
       "      <td>Kees</td>\n",
       "      <td>4.0</td>\n",
       "      <td>6.0</td>\n",
       "    </tr>\n",
       "  </tbody>\n",
       "</table>\n",
       "</div>"
      ],
      "text/plain": [
       "  Nummer  Naam  Tentamen  Opdracht\n",
       "0     s1  Joop      99.9       7.5\n",
       "1     s2  Piet       8.0       7.0\n",
       "2   None  Fout      99.9      99.9\n",
       "3     s3  Kees       4.0       6.0"
      ]
     },
     "execution_count": 634,
     "metadata": {},
     "output_type": "execute_result"
    }
   ],
   "source": [
    "student1 = pd.Series({'Nummer':'s1', 'Naam':'Joop', 'Tentamen':99.9, 'Opdracht': 7.5})\n",
    "student2 = pd.Series({'Nummer':'s2', 'Naam':'Piet', 'Tentamen':8.0, 'Opdracht': 7.0})\n",
    "student3 = pd.Series({'Nummer': None, 'Naam':'Fout', 'Tentamen':99.9, 'Opdracht': 99.9})\n",
    "student4 = pd.Series({'Nummer':'s3', 'Naam':'Kees', 'Tentamen':4.0, 'Opdracht': 6.0})\n",
    "studenten = pd.DataFrame([student1, student2,student3, student4])\n",
    "studenten"
   ]
  },
  {
   "cell_type": "markdown",
   "metadata": {},
   "source": [
    "- Bepaal het totaal aantal niet-bestaande waarden."
   ]
  },
  {
   "cell_type": "code",
   "execution_count": 635,
   "metadata": {
    "tags": [
     "student"
    ]
   },
   "outputs": [
    {
     "data": {
      "text/plain": [
       "Nummer      1\n",
       "Naam        0\n",
       "Tentamen    0\n",
       "Opdracht    0\n",
       "dtype: int64"
      ]
     },
     "execution_count": 635,
     "metadata": {},
     "output_type": "execute_result"
    }
   ],
   "source": [
    "studenten.isnull().sum() # Is dit wat er bedoeld word? Of moet de waarde \"fout\" ook meegeteld worden?"
   ]
  },
  {
   "cell_type": "markdown",
   "metadata": {},
   "source": [
    "- Zet de opdracht- en tentamencijfers met waarde 99.9 om naar NaN waarde"
   ]
  },
  {
   "cell_type": "code",
   "execution_count": 636,
   "metadata": {
    "tags": [
     "student"
    ]
   },
   "outputs": [
    {
     "data": {
      "text/html": [
       "<div>\n",
       "<style scoped>\n",
       "    .dataframe tbody tr th:only-of-type {\n",
       "        vertical-align: middle;\n",
       "    }\n",
       "\n",
       "    .dataframe tbody tr th {\n",
       "        vertical-align: top;\n",
       "    }\n",
       "\n",
       "    .dataframe thead th {\n",
       "        text-align: right;\n",
       "    }\n",
       "</style>\n",
       "<table border=\"1\" class=\"dataframe\">\n",
       "  <thead>\n",
       "    <tr style=\"text-align: right;\">\n",
       "      <th></th>\n",
       "      <th>Nummer</th>\n",
       "      <th>Naam</th>\n",
       "      <th>Tentamen</th>\n",
       "      <th>Opdracht</th>\n",
       "    </tr>\n",
       "  </thead>\n",
       "  <tbody>\n",
       "    <tr>\n",
       "      <th>0</th>\n",
       "      <td>s1</td>\n",
       "      <td>Joop</td>\n",
       "      <td>NaN</td>\n",
       "      <td>7.5</td>\n",
       "    </tr>\n",
       "    <tr>\n",
       "      <th>1</th>\n",
       "      <td>s2</td>\n",
       "      <td>Piet</td>\n",
       "      <td>8.0</td>\n",
       "      <td>7.0</td>\n",
       "    </tr>\n",
       "    <tr>\n",
       "      <th>2</th>\n",
       "      <td>None</td>\n",
       "      <td>Fout</td>\n",
       "      <td>NaN</td>\n",
       "      <td>NaN</td>\n",
       "    </tr>\n",
       "    <tr>\n",
       "      <th>3</th>\n",
       "      <td>s3</td>\n",
       "      <td>Kees</td>\n",
       "      <td>4.0</td>\n",
       "      <td>6.0</td>\n",
       "    </tr>\n",
       "  </tbody>\n",
       "</table>\n",
       "</div>"
      ],
      "text/plain": [
       "  Nummer  Naam  Tentamen  Opdracht\n",
       "0     s1  Joop       NaN       7.5\n",
       "1     s2  Piet       8.0       7.0\n",
       "2   None  Fout       NaN       NaN\n",
       "3     s3  Kees       4.0       6.0"
      ]
     },
     "execution_count": 636,
     "metadata": {},
     "output_type": "execute_result"
    }
   ],
   "source": [
    "studenten.replace(99.9, np.nan, inplace=True)\n",
    "studenten"
   ]
  },
  {
   "cell_type": "markdown",
   "metadata": {},
   "source": [
    "- Haal de missing values uit het DataFrame"
   ]
  },
  {
   "cell_type": "code",
   "execution_count": 637,
   "metadata": {
    "tags": [
     "student"
    ]
   },
   "outputs": [
    {
     "data": {
      "text/html": [
       "<div>\n",
       "<style scoped>\n",
       "    .dataframe tbody tr th:only-of-type {\n",
       "        vertical-align: middle;\n",
       "    }\n",
       "\n",
       "    .dataframe tbody tr th {\n",
       "        vertical-align: top;\n",
       "    }\n",
       "\n",
       "    .dataframe thead th {\n",
       "        text-align: right;\n",
       "    }\n",
       "</style>\n",
       "<table border=\"1\" class=\"dataframe\">\n",
       "  <thead>\n",
       "    <tr style=\"text-align: right;\">\n",
       "      <th></th>\n",
       "      <th>Nummer</th>\n",
       "      <th>Naam</th>\n",
       "      <th>Tentamen</th>\n",
       "      <th>Opdracht</th>\n",
       "    </tr>\n",
       "  </thead>\n",
       "  <tbody>\n",
       "    <tr>\n",
       "      <th>1</th>\n",
       "      <td>s2</td>\n",
       "      <td>Piet</td>\n",
       "      <td>8.0</td>\n",
       "      <td>7.0</td>\n",
       "    </tr>\n",
       "    <tr>\n",
       "      <th>3</th>\n",
       "      <td>s3</td>\n",
       "      <td>Kees</td>\n",
       "      <td>4.0</td>\n",
       "      <td>6.0</td>\n",
       "    </tr>\n",
       "  </tbody>\n",
       "</table>\n",
       "</div>"
      ],
      "text/plain": [
       "  Nummer  Naam  Tentamen  Opdracht\n",
       "1     s2  Piet       8.0       7.0\n",
       "3     s3  Kees       4.0       6.0"
      ]
     },
     "execution_count": 637,
     "metadata": {},
     "output_type": "execute_result"
    }
   ],
   "source": [
    "studenten.dropna(inplace=True) # Moet de hele rij verwijderd worden of alleen de value met NaN? En zo ja wat moet er komen?\n",
    "studenten"
   ]
  },
  {
   "cell_type": "markdown",
   "metadata": {},
   "source": [
    "- Zet `Nummer` als index."
   ]
  },
  {
   "cell_type": "code",
   "execution_count": 638,
   "metadata": {
    "tags": [
     "student"
    ]
   },
   "outputs": [
    {
     "data": {
      "text/html": [
       "<div>\n",
       "<style scoped>\n",
       "    .dataframe tbody tr th:only-of-type {\n",
       "        vertical-align: middle;\n",
       "    }\n",
       "\n",
       "    .dataframe tbody tr th {\n",
       "        vertical-align: top;\n",
       "    }\n",
       "\n",
       "    .dataframe thead th {\n",
       "        text-align: right;\n",
       "    }\n",
       "</style>\n",
       "<table border=\"1\" class=\"dataframe\">\n",
       "  <thead>\n",
       "    <tr style=\"text-align: right;\">\n",
       "      <th></th>\n",
       "      <th>Naam</th>\n",
       "      <th>Tentamen</th>\n",
       "      <th>Opdracht</th>\n",
       "    </tr>\n",
       "    <tr>\n",
       "      <th>Nummer</th>\n",
       "      <th></th>\n",
       "      <th></th>\n",
       "      <th></th>\n",
       "    </tr>\n",
       "  </thead>\n",
       "  <tbody>\n",
       "    <tr>\n",
       "      <th>s2</th>\n",
       "      <td>Piet</td>\n",
       "      <td>8.0</td>\n",
       "      <td>7.0</td>\n",
       "    </tr>\n",
       "    <tr>\n",
       "      <th>s3</th>\n",
       "      <td>Kees</td>\n",
       "      <td>4.0</td>\n",
       "      <td>6.0</td>\n",
       "    </tr>\n",
       "  </tbody>\n",
       "</table>\n",
       "</div>"
      ],
      "text/plain": [
       "        Naam  Tentamen  Opdracht\n",
       "Nummer                          \n",
       "s2      Piet       8.0       7.0\n",
       "s3      Kees       4.0       6.0"
      ]
     },
     "execution_count": 638,
     "metadata": {},
     "output_type": "execute_result"
    }
   ],
   "source": [
    "studenten.set_index('Nummer', inplace=True)\n",
    "studenten"
   ]
  },
  {
   "cell_type": "markdown",
   "metadata": {},
   "source": [
    "- Het eindcijfer van het vak is 70% tentamen en 30% opdracht; voeg dit als kolom `Eindcijfer` toe"
   ]
  },
  {
   "cell_type": "code",
   "execution_count": 639,
   "metadata": {
    "tags": [
     "student"
    ]
   },
   "outputs": [],
   "source": [
    "eindcijfer = studenten['Tentamen'] * 0.7 + studenten['Opdracht'] * 0.3\n",
    "studenten['Eindcijfer'] = eindcijfer"
   ]
  },
  {
   "cell_type": "markdown",
   "metadata": {},
   "source": [
    "- Bepaal het gemiddelde eindcijfer"
   ]
  },
  {
   "cell_type": "code",
   "execution_count": 640,
   "metadata": {
    "tags": [
     "student"
    ]
   },
   "outputs": [
    {
     "data": {
      "text/plain": [
       "np.float64(6.1499999999999995)"
      ]
     },
     "execution_count": 640,
     "metadata": {},
     "output_type": "execute_result"
    }
   ],
   "source": [
    "studenten.Eindcijfer.mean()"
   ]
  },
  {
   "cell_type": "markdown",
   "metadata": {},
   "source": [
    "- Wat geeft `studenten.describe()` weer?"
   ]
  },
  {
   "cell_type": "code",
   "execution_count": 641,
   "metadata": {
    "tags": [
     "student"
    ]
   },
   "outputs": [
    {
     "data": {
      "text/html": [
       "<div>\n",
       "<style scoped>\n",
       "    .dataframe tbody tr th:only-of-type {\n",
       "        vertical-align: middle;\n",
       "    }\n",
       "\n",
       "    .dataframe tbody tr th {\n",
       "        vertical-align: top;\n",
       "    }\n",
       "\n",
       "    .dataframe thead th {\n",
       "        text-align: right;\n",
       "    }\n",
       "</style>\n",
       "<table border=\"1\" class=\"dataframe\">\n",
       "  <thead>\n",
       "    <tr style=\"text-align: right;\">\n",
       "      <th></th>\n",
       "      <th>Tentamen</th>\n",
       "      <th>Opdracht</th>\n",
       "      <th>Eindcijfer</th>\n",
       "    </tr>\n",
       "  </thead>\n",
       "  <tbody>\n",
       "    <tr>\n",
       "      <th>count</th>\n",
       "      <td>2.000000</td>\n",
       "      <td>2.000000</td>\n",
       "      <td>2.000000</td>\n",
       "    </tr>\n",
       "    <tr>\n",
       "      <th>mean</th>\n",
       "      <td>6.000000</td>\n",
       "      <td>6.500000</td>\n",
       "      <td>6.150000</td>\n",
       "    </tr>\n",
       "    <tr>\n",
       "      <th>std</th>\n",
       "      <td>2.828427</td>\n",
       "      <td>0.707107</td>\n",
       "      <td>2.192031</td>\n",
       "    </tr>\n",
       "    <tr>\n",
       "      <th>min</th>\n",
       "      <td>4.000000</td>\n",
       "      <td>6.000000</td>\n",
       "      <td>4.600000</td>\n",
       "    </tr>\n",
       "    <tr>\n",
       "      <th>25%</th>\n",
       "      <td>5.000000</td>\n",
       "      <td>6.250000</td>\n",
       "      <td>5.375000</td>\n",
       "    </tr>\n",
       "    <tr>\n",
       "      <th>50%</th>\n",
       "      <td>6.000000</td>\n",
       "      <td>6.500000</td>\n",
       "      <td>6.150000</td>\n",
       "    </tr>\n",
       "    <tr>\n",
       "      <th>75%</th>\n",
       "      <td>7.000000</td>\n",
       "      <td>6.750000</td>\n",
       "      <td>6.925000</td>\n",
       "    </tr>\n",
       "    <tr>\n",
       "      <th>max</th>\n",
       "      <td>8.000000</td>\n",
       "      <td>7.000000</td>\n",
       "      <td>7.700000</td>\n",
       "    </tr>\n",
       "  </tbody>\n",
       "</table>\n",
       "</div>"
      ],
      "text/plain": [
       "       Tentamen  Opdracht  Eindcijfer\n",
       "count  2.000000  2.000000    2.000000\n",
       "mean   6.000000  6.500000    6.150000\n",
       "std    2.828427  0.707107    2.192031\n",
       "min    4.000000  6.000000    4.600000\n",
       "25%    5.000000  6.250000    5.375000\n",
       "50%    6.000000  6.500000    6.150000\n",
       "75%    7.000000  6.750000    6.925000\n",
       "max    8.000000  7.000000    7.700000"
      ]
     },
     "execution_count": 641,
     "metadata": {},
     "output_type": "execute_result"
    }
   ],
   "source": [
    "studenten.describe()"
   ]
  },
  {
   "cell_type": "markdown",
   "metadata": {},
   "source": [
    "- Selecteer alle namen en cijfers van de studenten met een voldoende als eindcijfer."
   ]
  },
  {
   "cell_type": "code",
   "execution_count": 642,
   "metadata": {
    "tags": [
     "student"
    ]
   },
   "outputs": [
    {
     "name": "stdout",
     "output_type": "stream",
     "text": [
      "        Naam  Tentamen  Opdracht  Eindcijfer\n",
      "Nummer                                      \n",
      "s2      Piet       8.0       7.0         7.7\n"
     ]
    }
   ],
   "source": [
    "print(studenten[studenten['Eindcijfer'] >= 5.5])"
   ]
  },
  {
   "cell_type": "markdown",
   "metadata": {},
   "source": [
    "## Opdracht 3 Cijfers\n",
    "\n",
    "Numpy arrays kunnen alleen uniforme waarden bevatten. Pandas arrays kunnen juist meer bevatten. We doen de opdracht in numpy nu in pandas. Tip: maak gebruik van de cheat sheets!\n",
    "\n",
    "Aanvullende bron:\n",
    "-\thttp://nbviewer.jupyter.org/github/justmarkham/pandas-videos/blob/master/pandas.ipynb "
   ]
  },
  {
   "cell_type": "markdown",
   "metadata": {},
   "source": [
    "De blokcoördinator D.O. Cent van blok A, SIE-V2  wil graag de cijfers analyseren en verwerken. het blok bestaat uit 3 vakken, die door 10 studenten gevolgd zijn. Analyse omvat o.a. het bepalen van gemiddelde cijfer, het aantal voldoendes en cursusrendement. De verwerking bestaat uit het corrigeren van de cijfers. \n",
    "\n",
    "\n",
    "In `blokAcijfers.txt` staan de cijfers per vak (naast elkaar staan de vakken, onder elkaar de studenten):\n",
    "\n",
    "vak1 | vak2 | vak3\n",
    "----|-------|------\n",
    "6.5 | 7.3   | 6.4\n",
    "8.0 | 8.0\t| 8.5\n",
    "3.2\t| 4.0\t| 5.0\n",
    "7.9\t| 7.1\t| 3.5\n",
    "7.3\t| 7.8\t| 8.0\n",
    "8.6\t| 8.0\t| 9.0\n",
    "4.0\t| 6.0\t| 5.5\n",
    "7.3\t| 7.8\t| 7.8\n",
    "4.5\t| 5.6\t| 7.7\n",
    "5.0\t| 7.0\t| 7.2\n",
    "\n",
    "In `blokAStudenten.csv` staan de studentgegevens:\n",
    "\n",
    "\"Studentnr\"|\"Naam\"|\"Vooropleiding\"\n",
    "--|--|--\n",
    "1502000|\"Jan Jansen\"|\"HAVO\"\n",
    "1501677|\"Ali ElMoune\"|\"MBO\"\n",
    "1503190|\"Bert de Graaf\"|\"HAVO\"\n",
    "1506700|\"Koos Alberts\"|\"MBO\"\n",
    "1504503|\"Willie Napoli\"|\"MBO\"\n",
    "1507878|\"Jorrit Beeks\"|\"VWO\"\n",
    "1502507|\"Frits Wielenga\"|\"HAVO\"\n",
    "1503684|\"Cornee Nijsten\"|\"VWO\"\n",
    "1503831|\"Sabine Honing\"|\"HAVO\"\n",
    "1506001|\"George Belfore\"|\"HAVO\""
   ]
  },
  {
   "cell_type": "code",
   "execution_count": 643,
   "metadata": {},
   "outputs": [],
   "source": [
    "# Deze imports zijn nodig voor de opdracht.\n",
    "import pandas as pd\n",
    "import numpy as np"
   ]
  },
  {
   "cell_type": "markdown",
   "metadata": {},
   "source": [
    "De docent wil de gegevens in een Jupyter Notebook verwerken.\n",
    "-\tLees tekstbestand: blokAcijfers.txt in, in een dataframe `cijfers`.\n",
    "-\tLaat zien dat de gegevens goed ingelezen zijn.\n",
    "-\tWijzig de kolomnrs in de vaknamen: vakken = ['RAD','ANA', CBA'].\n",
    "-\tToon de dataframe attributen.\n",
    "-\tToon de index gegevens."
   ]
  },
  {
   "cell_type": "code",
   "execution_count": 644,
   "metadata": {
    "tags": [
     "student"
    ]
   },
   "outputs": [
    {
     "name": "stdout",
     "output_type": "stream",
     "text": [
      "   RAD  ANA  CBA\n",
      "0  6.5  7.3  6.4\n",
      "1  8.0  8.0  8.5\n",
      "2  3.2  4.0  5.0\n",
      "3  7.9  7.1  3.5\n",
      "4  7.3  7.8  8.0\n",
      "5  8.6  8.0  9.0\n",
      "6  4.0  6.0  5.5\n",
      "7  7.3  7.8  7.8\n",
      "8  4.5  5.6  7.7\n",
      "9  5.0  7.0  7.2\n"
     ]
    }
   ],
   "source": [
    "columns = ['RAD', 'ANA', 'CBA']\n",
    "cijfers = pd.read_csv('blokAcijfers.txt', sep='\\t', names=columns)\n",
    "print(cijfers)"
   ]
  },
  {
   "cell_type": "markdown",
   "metadata": {},
   "source": [
    "De docent ziet dat er 2 cijfers fout zijn en wil deze corrigeren (NB. Elke regel heeft een numeriek index gelijk aan het regelnummer.)\n",
    "-\t Wijzig de volgende cijfers\t\t\t\t\t\t\t\n",
    "    *\tvak-2, student-3  cijfer 4.0 moet 4.3 worden.\n",
    "    *\tvak-1, student-10, cijfer 5.0 moet 4.8 worden."
   ]
  },
  {
   "cell_type": "code",
   "execution_count": 645,
   "metadata": {
    "tags": [
     "student"
    ]
   },
   "outputs": [
    {
     "name": "stdout",
     "output_type": "stream",
     "text": [
      "   RAD  ANA  CBA\n",
      "0  6.5  7.3  6.4\n",
      "1  8.0  8.0  8.5\n",
      "2  3.2  4.3  5.0\n",
      "3  7.9  7.1  3.5\n",
      "4  7.3  7.8  8.0\n",
      "5  8.6  8.0  9.0\n",
      "6  4.0  6.0  5.5\n",
      "7  7.3  7.8  7.8\n",
      "8  4.5  5.6  7.7\n",
      "9  4.8  7.0  7.2\n"
     ]
    }
   ],
   "source": [
    "cijfers.loc[2, 'ANA'] = 4.3\n",
    "cijfers.loc[9, 'RAD'] = 4.8\n",
    "print(cijfers)"
   ]
  },
  {
   "cell_type": "markdown",
   "metadata": {},
   "source": [
    "De docent wil de studentgegevens ook aan het dataframe toevoegen.\n",
    "-\tLees tekstbestand: `blokAStudenten.csv` in, in een dataframe `studenten`. Let op dat je de juiste instellingen voor sep en header meegeeft.\n",
    "-\tLaat zien dat de gegevens correct zijn ingelezen."
   ]
  },
  {
   "cell_type": "code",
   "execution_count": 646,
   "metadata": {
    "tags": [
     "student"
    ]
   },
   "outputs": [
    {
     "name": "stdout",
     "output_type": "stream",
     "text": [
      "   Studentnr            Naam Vooropleiding\n",
      "0    1502000      Jan Jansen          HAVO\n",
      "1    1501677     Ali ElMoune           MBO\n",
      "2    1503190   Bert de Graaf          HAVO\n",
      "3    1506700    Koos Alberts           MBO\n",
      "4    1504503   Willie Napoli           MBO\n",
      "5    1507878    Jorrit Beeks           VWO\n",
      "6    1502507  Frits Wielenga          HAVO\n",
      "7    1503684  Cornee Nijsten           VWO\n",
      "8    1503831   Sabine Honing          HAVO\n",
      "9    1506001  George Belfore          HAVO\n"
     ]
    }
   ],
   "source": [
    "studenten = pd.read_csv('blokAStudenten.csv', sep=';')\n",
    "print(studenten)"
   ]
  },
  {
   "cell_type": "markdown",
   "metadata": {},
   "source": [
    "Nu gaan we ``studenten`` en ``cijfers`` samenvoegen tot een cijferslijst. We mogen er vanuitgaan dat de volgorde van beiden dezelfde index hebben (hier de rijwaarde 0 t/m 9).\n",
    "-\tCombineer de beide dataframes met behulp van `p.merge()`:\n",
    "    *\tJe kunt hier een inner join gebruiken.\n",
    "    *\tJe kunt van beide zijden de index gebruiken .\n",
    "-\tLaat zien dat de gegevens correct zijn samengevoegd tot één dataframe cijferlijst met de kolommen: `Studentnr`; `Naam`; `Vooropleiding`; `RAD`; `ANA`; en `CBA`."
   ]
  },
  {
   "cell_type": "code",
   "execution_count": 647,
   "metadata": {
    "tags": [
     "student"
    ]
   },
   "outputs": [
    {
     "name": "stdout",
     "output_type": "stream",
     "text": [
      "   Studentnr            Naam Vooropleiding  RAD  ANA  CBA\n",
      "0    1502000      Jan Jansen          HAVO  6.5  7.3  6.4\n",
      "1    1501677     Ali ElMoune           MBO  8.0  8.0  8.5\n",
      "2    1503190   Bert de Graaf          HAVO  3.2  4.3  5.0\n",
      "3    1506700    Koos Alberts           MBO  7.9  7.1  3.5\n",
      "4    1504503   Willie Napoli           MBO  7.3  7.8  8.0\n",
      "5    1507878    Jorrit Beeks           VWO  8.6  8.0  9.0\n",
      "6    1502507  Frits Wielenga          HAVO  4.0  6.0  5.5\n",
      "7    1503684  Cornee Nijsten           VWO  7.3  7.8  7.8\n",
      "8    1503831   Sabine Honing          HAVO  4.5  5.6  7.7\n",
      "9    1506001  George Belfore          HAVO  4.8  7.0  7.2\n"
     ]
    }
   ],
   "source": [
    "cijferlijst = studenten.merge(cijfers, left_index=True, right_index=True)\n",
    "print(cijferlijst)"
   ]
  },
  {
   "cell_type": "markdown",
   "metadata": {},
   "source": [
    "Het is handig om een dataframe een sprekende index te geven:\n",
    "-\tMaak `Studentnr` de rij-index. NB. Gebruik indien nodig de optie `inplace=True`."
   ]
  },
  {
   "cell_type": "markdown",
   "metadata": {
    "tags": [
     "student"
    ]
   },
   "source": []
  },
  {
   "cell_type": "code",
   "execution_count": 648,
   "metadata": {},
   "outputs": [
    {
     "name": "stdout",
     "output_type": "stream",
     "text": [
      "                     Naam Vooropleiding  RAD  ANA  CBA\n",
      "Studentnr                                             \n",
      "1502000        Jan Jansen          HAVO  6.5  7.3  6.4\n",
      "1501677       Ali ElMoune           MBO  8.0  8.0  8.5\n",
      "1503190     Bert de Graaf          HAVO  3.2  4.3  5.0\n",
      "1506700      Koos Alberts           MBO  7.9  7.1  3.5\n",
      "1504503     Willie Napoli           MBO  7.3  7.8  8.0\n",
      "1507878      Jorrit Beeks           VWO  8.6  8.0  9.0\n",
      "1502507    Frits Wielenga          HAVO  4.0  6.0  5.5\n",
      "1503684    Cornee Nijsten           VWO  7.3  7.8  7.8\n",
      "1503831     Sabine Honing          HAVO  4.5  5.6  7.7\n",
      "1506001    George Belfore          HAVO  4.8  7.0  7.2\n"
     ]
    }
   ],
   "source": [
    "cijferlijst.set_index(\"Studentnr\", inplace=True)\n",
    "print(cijferlijst)"
   ]
  },
  {
   "cell_type": "markdown",
   "metadata": {},
   "source": [
    "De docent wil wat basisgegevens: minimum, maximum, gemiddelde van de cijfers weten. Het grote voordeel is dat numpy heel goed kan omgaan met de numerieke kolommen van een dataframe. Voorbeeld: het berekenen van het gemiddelde cijfer voor het vak ‘RAD’ kan met de opdracht: `np.mean(cijferlijst['RAD']`.\n",
    "-\tBepaal minimum, maximum en gemiddelde van alle cijfers.\n",
    "-\tBepaal minimum, maximum en gemiddelde van elk vak (3 getallen).\n",
    "-\tBepaal minimum, maximum en gemiddelde van elke student (10 getallen)."
   ]
  },
  {
   "cell_type": "code",
   "execution_count": 649,
   "metadata": {
    "tags": [
     "student"
    ]
   },
   "outputs": [
    {
     "name": "stdout",
     "output_type": "stream",
     "text": [
      "Min All 3.2\n",
      "Max All 9.0\n",
      "Mean All 6.653333333333333\n",
      "Min\n",
      " RAD    3.2\n",
      "ANA    4.3\n",
      "CBA    3.5\n",
      "dtype: float64\n",
      "Max\n",
      " RAD    8.6\n",
      "ANA    8.0\n",
      "CBA    9.0\n",
      "dtype: float64\n",
      "Mean\n",
      " RAD    6.21\n",
      "ANA    6.89\n",
      "CBA    6.86\n",
      "dtype: float64\n",
      "Min per student\n",
      " Studentnr\n",
      "1502000    6.4\n",
      "1501677    8.0\n",
      "1503190    3.2\n",
      "1506700    3.5\n",
      "1504503    7.3\n",
      "1507878    8.0\n",
      "1502507    4.0\n",
      "1503684    7.3\n",
      "1503831    4.5\n",
      "1506001    4.8\n",
      "dtype: float64\n",
      "Max per student\n",
      " Studentnr\n",
      "1502000    7.3\n",
      "1501677    8.5\n",
      "1503190    5.0\n",
      "1506700    7.9\n",
      "1504503    8.0\n",
      "1507878    9.0\n",
      "1502507    6.0\n",
      "1503684    7.8\n",
      "1503831    7.7\n",
      "1506001    7.2\n",
      "dtype: float64\n",
      "Mean per student\n",
      " Studentnr\n",
      "1502000    6.733333\n",
      "1501677    8.166667\n",
      "1503190    4.166667\n",
      "1506700    6.166667\n",
      "1504503    7.700000\n",
      "1507878    8.533333\n",
      "1502507    5.166667\n",
      "1503684    7.633333\n",
      "1503831    5.933333\n",
      "1506001    6.333333\n",
      "dtype: float64\n"
     ]
    }
   ],
   "source": [
    "print(\"Min All\", cijferlijst.loc[:, \"RAD\":\"CBA\"].min().min())\n",
    "print(\"Max All\", cijferlijst.loc[:, \"RAD\":\"CBA\"].max().max())\n",
    "print(\"Mean All\", cijferlijst.loc[:, \"RAD\":\"CBA\"].mean().mean())\n",
    "\n",
    "print(\"Min\\n\", cijferlijst.loc[:, \"RAD\":\"CBA\"].min())  \n",
    "print(\"Max\\n\", cijferlijst.loc[:, \"RAD\":\"CBA\"].max())\n",
    "print(\"Mean\\n\", cijferlijst.loc[:, \"RAD\":\"CBA\"].mean())\n",
    "\n",
    "print(\"Min per student\\n\", cijferlijst.loc[:, \"RAD\":\"CBA\"].min(axis=1))\n",
    "print(\"Max per student\\n\", cijferlijst.loc[:, \"RAD\":\"CBA\"].max(axis=1))\n",
    "print(\"Mean per student\\n\", cijferlijst.loc[:, \"RAD\":\"CBA\"].mean(axis=1))"
   ]
  },
  {
   "cell_type": "markdown",
   "metadata": {},
   "source": [
    "Er is een fout gemaakt bij de cijfers van het 1e vak (RAD). Iedere student krijgt 0.5 punt extra erbij.\n",
    "-\tDoe dit met één opdrachtregel."
   ]
  },
  {
   "cell_type": "code",
   "execution_count": 650,
   "metadata": {
    "tags": [
     "student"
    ]
   },
   "outputs": [
    {
     "name": "stdout",
     "output_type": "stream",
     "text": [
      "                     Naam Vooropleiding  RAD  ANA  CBA\n",
      "Studentnr                                             \n",
      "1502000        Jan Jansen          HAVO  7.0  7.3  6.4\n",
      "1501677       Ali ElMoune           MBO  8.5  8.0  8.5\n",
      "1503190     Bert de Graaf          HAVO  3.7  4.3  5.0\n",
      "1506700      Koos Alberts           MBO  8.4  7.1  3.5\n",
      "1504503     Willie Napoli           MBO  7.8  7.8  8.0\n",
      "1507878      Jorrit Beeks           VWO  9.1  8.0  9.0\n",
      "1502507    Frits Wielenga          HAVO  4.5  6.0  5.5\n",
      "1503684    Cornee Nijsten           VWO  7.8  7.8  7.8\n",
      "1503831     Sabine Honing          HAVO  5.0  5.6  7.7\n",
      "1506001    George Belfore          HAVO  5.3  7.0  7.2\n"
     ]
    }
   ],
   "source": [
    "cijferlijst[\"RAD\"] = cijferlijst[\"RAD\"] + 0.5\n",
    "print(cijferlijst)"
   ]
  },
  {
   "cell_type": "markdown",
   "metadata": {},
   "source": [
    "De docent wil graag weten of er verschil in studentprestaties is afhankelijk van de vooropleiding. \n",
    "-\tToon voor elk vak het vooropleiding groepsgemiddelde.\n",
    "-\tWat is je conclusie ?"
   ]
  },
  {
   "cell_type": "code",
   "execution_count": 651,
   "metadata": {
    "tags": [
     "student"
    ]
   },
   "outputs": [
    {
     "name": "stdout",
     "output_type": "stream",
     "text": [
      "VWO\n",
      " RAD    8.45\n",
      "ANA    7.90\n",
      "CBA    8.40\n",
      "dtype: float64\n",
      "HAVO\n",
      " RAD    5.10\n",
      "ANA    6.04\n",
      "CBA    6.36\n",
      "dtype: float64\n",
      "MBO\n",
      " RAD    8.233333\n",
      "ANA    7.633333\n",
      "CBA    6.666667\n",
      "dtype: float64\n"
     ]
    }
   ],
   "source": [
    "havo = cijferlijst[cijferlijst['Vooropleiding'] == 'HAVO']\n",
    "vwo = cijferlijst[cijferlijst['Vooropleiding'] == 'VWO']\n",
    "mbo = cijferlijst[cijferlijst['Vooropleiding'] == 'MBO']\n",
    "\n",
    "print(\"VWO\\n\", vwo.loc[:, \"RAD\":\"CBA\"].mean())\n",
    "print(\"HAVO\\n\", havo.loc[:, \"RAD\":\"CBA\"].mean())\n",
    "print(\"MBO\\n\", mbo.loc[:, \"RAD\":\"CBA\"].mean())"
   ]
  },
  {
   "cell_type": "markdown",
   "metadata": {
    "tags": [
     "student"
    ]
   },
   "source": [
    "Conclusie: Havo dit het aanzienlijk minder dan zowel MBO als VWO. Voornamelijk in RAD en ANA."
   ]
  },
  {
   "cell_type": "markdown",
   "metadata": {},
   "source": [
    "## Opdracht 4 datetime\n",
    "\n",
    "Maak een Jupyter notebook waarin je met Pandas de volgende casus realiseert: een storingsmedewerker wil graag onderzoeken hoe het weer geweest is op 1 Januari 2017. Hiervoor vraagt hij bij het KNMI de weergegevens op van drie meetstations.\n",
    "\n",
    "Aanvullende bronnen:\n",
    "- http://chrisalbon.com/python/pandas_time_series_basics.html\n",
    "- http://chrisalbon.com/python/date_and_time_basics.html\n",
    "- http://chrisalbon.com/python/pandas_group_by_time.html "
   ]
  },
  {
   "cell_type": "code",
   "execution_count": 652,
   "metadata": {},
   "outputs": [],
   "source": [
    "# Aanvullende imports\n",
    "import datetime as dt\n",
    "import matplotlib.pyplot as pyplot\n",
    "\n",
    "# De data die we gaan gebruiken.\n",
    "data = {'meetpunt': ['De Bilt','Maastricht', 'Leeuwarden',\n",
    "                     'De Bilt','Maastricht', 'Leeuwarden',\n",
    "                     'De Bilt','Maastricht', 'Leeuwarden',\n",
    "                     'De Bilt','Maastricht', 'Leeuwarden'],\n",
    "        'datum': ['2017-01-01 13:00:05.069722', '2017-01-01 13:00:01.119994', '2017-01-01 13:00:07.178768',\n",
    "                  '2017-01-02 13:00:01.043200', '2017-01-02 13:00:03.119401', '2017-01-02 13:00:03.876898',\n",
    "                  '2017-01-03 13:00:03.043450', '2017-01-03 13:00:02.669401', '2017-01-03 13:00:01.321898',\n",
    "                  '2017-01-04 13:00:04.042015', '2017-01-04 13:00:04.321564', '2017-01-04 13:00:04.394866'],\n",
    "        'temperatuur': [-0.3, 1.9, 0.8,\n",
    "                        1.8, 7.1, 5.7,\n",
    "                        2.9, 7.3, 5.1,\n",
    "                        0.1, 6.8, 2.1,]}"
   ]
  },
  {
   "cell_type": "markdown",
   "metadata": {},
   "source": [
    "Bewerk de data zodat deze netjes in een dataframe komt.\n",
    "-\tMaak een dataframe met kolommen: ‘datum’, ‘temperatuur, ‘meetpunt’.\n",
    "-\tMaak van de datum kolom een kolom met datatype datetime."
   ]
  },
  {
   "cell_type": "code",
   "execution_count": 653,
   "metadata": {
    "tags": [
     "student"
    ]
   },
   "outputs": [],
   "source": [
    "import pandas as pd\n",
    "\n",
    "df = pd.DataFrame(data)\n",
    "df['datum'] = pd.to_datetime(df['datum'])"
   ]
  },
  {
   "cell_type": "markdown",
   "metadata": {},
   "source": [
    "Doe de volgende analyse op de datum gegevens.\n",
    "-\tHaal de eerste datumwaarde uit de tabel.\n",
    "-\tBepaal van de eerste datumwaarden: jaar, maand, dag, uur, minuut en seconde.\n",
    "-\tBepaal het tijdsverschil tussen de 1e en laatste waarde.\n",
    "-\tBepaal van het tijdsverschil het aantal dagen.\n",
    "-\tBepaal van het tijdsverschil het aantal uren."
   ]
  },
  {
   "cell_type": "code",
   "execution_count": 654,
   "metadata": {
    "tags": [
     "student"
    ]
   },
   "outputs": [
    {
     "name": "stdout",
     "output_type": "stream",
     "text": [
      "Earliest occurance:\n",
      " meetpunt                          De Bilt\n",
      "datum          2017-01-01 13:00:05.069722\n",
      "temperatuur                          -0.3\n",
      "Name: 0, dtype: object\n",
      "Date:  2017-01-01 13:00:05\n",
      "Time differance days 2\n",
      "Time differance hours 71\n"
     ]
    }
   ],
   "source": [
    "df.sort_values(by=\"datum\").iloc[0]\n",
    "print(\"Earliest occurance:\\n\", df.iloc[0])\n",
    "print(\"Date: \", df.iloc[0][\"datum\"].strftime(\"%Y-%m-%d %H:%M:%S\"))\n",
    "time_diff = df.iloc[-1][\"datum\"] - df.iloc[0][\"datum\"]\n",
    "print(\"Time differance days\", time_diff.days)\n",
    "print(\"Time differance hours\", time_diff.days*24 + time_diff.seconds//3600)"
   ]
  },
  {
   "cell_type": "markdown",
   "metadata": {},
   "source": [
    "De storingsmedewerker wil graag de volgende gegevens van dagen. Daarom is het handig om de dataframe te voorzien van een index. Voer dan de volgende opdrachten uit en verklaar deze.\n",
    "-\tMaak van de datum kolom een index.\n",
    "-\tDe temperaturen op 1 januari.\n",
    "-\tDe temperaturen na 3 januari.\n",
    "-\tDe temperatuur gemiddeld per dag .\n",
    "-\tLeg nu zelf uit wat de functie shift() doet.\n",
    "-\tHaal de datum kolom index weer weg."
   ]
  },
  {
   "cell_type": "code",
   "execution_count": 655,
   "metadata": {},
   "outputs": [
    {
     "name": "stdout",
     "output_type": "stream",
     "text": [
      "1 januari:\n",
      "  datum\n",
      "2017-01-01 13:00:05.069722   -0.3\n",
      "2017-01-01 13:00:01.119994    1.9\n",
      "2017-01-01 13:00:07.178768    0.8\n",
      "Name: temperatuur, dtype: float64\n",
      "3 januari of later: \n",
      "                               meetpunt  temperatuur\n",
      "datum                                              \n",
      "2017-01-03 13:00:03.043450     De Bilt          2.9\n",
      "2017-01-03 13:00:02.669401  Maastricht          7.3\n",
      "2017-01-03 13:00:01.321898  Leeuwarden          5.1\n",
      "2017-01-04 13:00:04.042015     De Bilt          0.1\n",
      "2017-01-04 13:00:04.321564  Maastricht          6.8\n",
      "2017-01-04 13:00:04.394866  Leeuwarden          2.1\n",
      "Average temperature per day:\n",
      " 2017-01-01    0.800000\n",
      "2017-01-02    4.866667\n",
      "2017-01-03    5.100000\n",
      "2017-01-04    3.000000\n",
      "Name: temperatuur, dtype: float64\n"
     ]
    }
   ],
   "source": [
    "df.set_index('datum', inplace=True)\n",
    "print(\"1 januari:\\n \", df.loc['2017-01-01', \"temperatuur\"])\n",
    "print(\"3 januari of later: \\n\", df.loc[df.loc['2017-01-03', \"temperatuur\"].first_valid_index():])\n",
    "\n",
    "print(\"Average temperature per day:\\n\", df.groupby(df.index.date)['temperatuur'].mean())\n",
    "\n",
    "# Heb geen shift functie gebruikt? Maar met de shift kan je eventuele data ranges op een bepaalde value zettem\n",
    "\n",
    "df.reset_index(inplace=True)"
   ]
  },
  {
   "cell_type": "markdown",
   "metadata": {
    "tags": [
     "student"
    ]
   },
   "source": [
    "df.set_index('datum', inplace=True)\n",
    "print(df.loc[pd.DatetimeIndex([\"2017-01-01\"]), ])"
   ]
  }
 ],
 "metadata": {
  "celltoolbar": "Tags",
  "kernelspec": {
   "display_name": "Python 3 (ipykernel)",
   "language": "python",
   "name": "python3"
  },
  "language_info": {
   "codemirror_mode": {
    "name": "ipython",
    "version": 3
   },
   "file_extension": ".py",
   "mimetype": "text/x-python",
   "name": "python",
   "nbconvert_exporter": "python",
   "pygments_lexer": "ipython3",
   "version": "3.12.5"
  }
 },
 "nbformat": 4,
 "nbformat_minor": 4
}
